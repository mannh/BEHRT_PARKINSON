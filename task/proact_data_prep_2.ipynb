{
 "cells": [
  {
   "cell_type": "code",
   "execution_count": 1,
   "metadata": {},
   "outputs": [],
   "source": [
    "import pandas as pd\n",
    "%matplotlib inline\n",
    "\n",
    "from pathlib import Path\n",
    "data_path = Path('../data/data.csv')"
   ]
  },
  {
   "cell_type": "code",
   "execution_count": 2,
   "metadata": {},
   "outputs": [
    {
     "data": {
      "text/plain": "                  ID           Age    Onset.time  Onset.Bulbar    Onset.Limb  \\\ncount   22089.000000  22089.000000  22089.000000  22089.000000  22089.000000   \nmean   501834.093259     54.652678   -726.958079      0.565304     -0.592648   \nstd    289211.103048     11.751766    481.111851      0.824901      0.805480   \nmin       329.000000     20.000000  -8741.000000     -1.000000     -1.000000   \n25%    251579.000000     46.000000   -963.000000      1.000000     -1.000000   \n50%    501995.000000     56.000000   -597.000000      1.000000     -1.000000   \n75%    750148.000000     64.000000   -378.000000      1.000000     -1.000000   \nmax    999880.000000     84.000000      0.000000      1.000000      1.000000   \n\n           Sex.Male          time      Next.FRS  Next.visit.Time  \\\ncount  22089.000000  22089.000000  22089.000000     22089.000000   \nmean       0.266332    186.661279    165.990086       186.197927   \nstd        0.963903    154.719267    341.057911       333.491912   \nmin       -1.000000    -12.000000      0.000000         2.000000   \n25%       -1.000000     61.000000     23.000000        32.000000   \n50%        1.000000    143.000000     29.000000        56.000000   \n75%        1.000000    288.000000     35.000000        67.000000   \nmax        1.000000    623.000000    999.000000       999.000000   \n\n       ALSFRS_Total  ...     Bilirubin      Chloride    Hematocrit  \\\ncount  22089.000000  ...  22089.000000  22089.000000  22089.000000   \nmean      26.844085  ...     11.500121    102.811024     38.681452   \nstd        7.283408  ...      6.077683      3.672409     13.627651   \nmin        0.000000  ...      0.000000     65.000000      0.287000   \n25%       22.000000  ...      7.000000    101.000000     39.600000   \n50%       28.000000  ...     10.262400    103.000000     42.900000   \n75%       32.000000  ...     15.393600    105.000000     45.400000   \nmax       40.000000  ...    153.936000    118.000000     81.000000   \n\n         Hemoglobin     Potassium       Protein       Glucose       Calcium  \\\ncount  22089.000000  22089.000000  22089.000000  22089.000000  22089.000000   \nmean     144.871314      4.193322     72.425108      5.620534      2.332697   \nstd       12.671118      0.341282      4.702865      1.602771      0.115433   \nmin        6.204000      2.700000     40.000000      0.000000      0.586325   \n25%      137.000000      4.000000     70.000000      4.800000      2.245500   \n50%      145.000000      4.100000     72.000000      5.300000      2.320350   \n75%      153.000000      4.400000     75.000000      5.900000      2.400000   \nmax      280.000000     13.000000     96.000000     28.000000      2.950000   \n\n             Sodium     Platelets  \ncount  22089.000000  22089.000000  \nmean     140.169048    242.511522  \nstd        2.790542     62.093461  \nmin      119.000000      4.000000  \n25%      138.000000    201.000000  \n50%      140.000000    236.000000  \n75%      142.000000    276.000000  \nmax      176.000000    866.000000  \n\n[8 rows x 41 columns]",
      "text/html": "<div>\n<style scoped>\n    .dataframe tbody tr th:only-of-type {\n        vertical-align: middle;\n    }\n\n    .dataframe tbody tr th {\n        vertical-align: top;\n    }\n\n    .dataframe thead th {\n        text-align: right;\n    }\n</style>\n<table border=\"1\" class=\"dataframe\">\n  <thead>\n    <tr style=\"text-align: right;\">\n      <th></th>\n      <th>ID</th>\n      <th>Age</th>\n      <th>Onset.time</th>\n      <th>Onset.Bulbar</th>\n      <th>Onset.Limb</th>\n      <th>Sex.Male</th>\n      <th>time</th>\n      <th>Next.FRS</th>\n      <th>Next.visit.Time</th>\n      <th>ALSFRS_Total</th>\n      <th>...</th>\n      <th>Bilirubin</th>\n      <th>Chloride</th>\n      <th>Hematocrit</th>\n      <th>Hemoglobin</th>\n      <th>Potassium</th>\n      <th>Protein</th>\n      <th>Glucose</th>\n      <th>Calcium</th>\n      <th>Sodium</th>\n      <th>Platelets</th>\n    </tr>\n  </thead>\n  <tbody>\n    <tr>\n      <th>count</th>\n      <td>22089.000000</td>\n      <td>22089.000000</td>\n      <td>22089.000000</td>\n      <td>22089.000000</td>\n      <td>22089.000000</td>\n      <td>22089.000000</td>\n      <td>22089.000000</td>\n      <td>22089.000000</td>\n      <td>22089.000000</td>\n      <td>22089.000000</td>\n      <td>...</td>\n      <td>22089.000000</td>\n      <td>22089.000000</td>\n      <td>22089.000000</td>\n      <td>22089.000000</td>\n      <td>22089.000000</td>\n      <td>22089.000000</td>\n      <td>22089.000000</td>\n      <td>22089.000000</td>\n      <td>22089.000000</td>\n      <td>22089.000000</td>\n    </tr>\n    <tr>\n      <th>mean</th>\n      <td>501834.093259</td>\n      <td>54.652678</td>\n      <td>-726.958079</td>\n      <td>0.565304</td>\n      <td>-0.592648</td>\n      <td>0.266332</td>\n      <td>186.661279</td>\n      <td>165.990086</td>\n      <td>186.197927</td>\n      <td>26.844085</td>\n      <td>...</td>\n      <td>11.500121</td>\n      <td>102.811024</td>\n      <td>38.681452</td>\n      <td>144.871314</td>\n      <td>4.193322</td>\n      <td>72.425108</td>\n      <td>5.620534</td>\n      <td>2.332697</td>\n      <td>140.169048</td>\n      <td>242.511522</td>\n    </tr>\n    <tr>\n      <th>std</th>\n      <td>289211.103048</td>\n      <td>11.751766</td>\n      <td>481.111851</td>\n      <td>0.824901</td>\n      <td>0.805480</td>\n      <td>0.963903</td>\n      <td>154.719267</td>\n      <td>341.057911</td>\n      <td>333.491912</td>\n      <td>7.283408</td>\n      <td>...</td>\n      <td>6.077683</td>\n      <td>3.672409</td>\n      <td>13.627651</td>\n      <td>12.671118</td>\n      <td>0.341282</td>\n      <td>4.702865</td>\n      <td>1.602771</td>\n      <td>0.115433</td>\n      <td>2.790542</td>\n      <td>62.093461</td>\n    </tr>\n    <tr>\n      <th>min</th>\n      <td>329.000000</td>\n      <td>20.000000</td>\n      <td>-8741.000000</td>\n      <td>-1.000000</td>\n      <td>-1.000000</td>\n      <td>-1.000000</td>\n      <td>-12.000000</td>\n      <td>0.000000</td>\n      <td>2.000000</td>\n      <td>0.000000</td>\n      <td>...</td>\n      <td>0.000000</td>\n      <td>65.000000</td>\n      <td>0.287000</td>\n      <td>6.204000</td>\n      <td>2.700000</td>\n      <td>40.000000</td>\n      <td>0.000000</td>\n      <td>0.586325</td>\n      <td>119.000000</td>\n      <td>4.000000</td>\n    </tr>\n    <tr>\n      <th>25%</th>\n      <td>251579.000000</td>\n      <td>46.000000</td>\n      <td>-963.000000</td>\n      <td>1.000000</td>\n      <td>-1.000000</td>\n      <td>-1.000000</td>\n      <td>61.000000</td>\n      <td>23.000000</td>\n      <td>32.000000</td>\n      <td>22.000000</td>\n      <td>...</td>\n      <td>7.000000</td>\n      <td>101.000000</td>\n      <td>39.600000</td>\n      <td>137.000000</td>\n      <td>4.000000</td>\n      <td>70.000000</td>\n      <td>4.800000</td>\n      <td>2.245500</td>\n      <td>138.000000</td>\n      <td>201.000000</td>\n    </tr>\n    <tr>\n      <th>50%</th>\n      <td>501995.000000</td>\n      <td>56.000000</td>\n      <td>-597.000000</td>\n      <td>1.000000</td>\n      <td>-1.000000</td>\n      <td>1.000000</td>\n      <td>143.000000</td>\n      <td>29.000000</td>\n      <td>56.000000</td>\n      <td>28.000000</td>\n      <td>...</td>\n      <td>10.262400</td>\n      <td>103.000000</td>\n      <td>42.900000</td>\n      <td>145.000000</td>\n      <td>4.100000</td>\n      <td>72.000000</td>\n      <td>5.300000</td>\n      <td>2.320350</td>\n      <td>140.000000</td>\n      <td>236.000000</td>\n    </tr>\n    <tr>\n      <th>75%</th>\n      <td>750148.000000</td>\n      <td>64.000000</td>\n      <td>-378.000000</td>\n      <td>1.000000</td>\n      <td>-1.000000</td>\n      <td>1.000000</td>\n      <td>288.000000</td>\n      <td>35.000000</td>\n      <td>67.000000</td>\n      <td>32.000000</td>\n      <td>...</td>\n      <td>15.393600</td>\n      <td>105.000000</td>\n      <td>45.400000</td>\n      <td>153.000000</td>\n      <td>4.400000</td>\n      <td>75.000000</td>\n      <td>5.900000</td>\n      <td>2.400000</td>\n      <td>142.000000</td>\n      <td>276.000000</td>\n    </tr>\n    <tr>\n      <th>max</th>\n      <td>999880.000000</td>\n      <td>84.000000</td>\n      <td>0.000000</td>\n      <td>1.000000</td>\n      <td>1.000000</td>\n      <td>1.000000</td>\n      <td>623.000000</td>\n      <td>999.000000</td>\n      <td>999.000000</td>\n      <td>40.000000</td>\n      <td>...</td>\n      <td>153.936000</td>\n      <td>118.000000</td>\n      <td>81.000000</td>\n      <td>280.000000</td>\n      <td>13.000000</td>\n      <td>96.000000</td>\n      <td>28.000000</td>\n      <td>2.950000</td>\n      <td>176.000000</td>\n      <td>866.000000</td>\n    </tr>\n  </tbody>\n</table>\n<p>8 rows × 41 columns</p>\n</div>"
     },
     "execution_count": 2,
     "metadata": {},
     "output_type": "execute_result"
    }
   ],
   "source": [
    "proact_raw = pd.read_csv(data_path)\n",
    "proact_raw.describe()"
   ]
  },
  {
   "cell_type": "code",
   "execution_count": 3,
   "metadata": {
    "pycharm": {
     "name": "#%%\n"
    }
   },
   "outputs": [],
   "source": [
    "# keep only those time >= 0\n",
    "negative_time_ids = proact_raw.loc[proact_raw['time'] < 0]['ID'].values\n",
    "proact_filterd = proact_raw.loc[~proact_raw.ID.isin(negative_time_ids),].copy()\n",
    "proact_filterd = proact_raw.copy()"
   ]
  },
  {
   "cell_type": "code",
   "execution_count": 4,
   "outputs": [],
   "source": [
    "from sklearn.preprocessing import RobustScaler\n",
    "scl = RobustScaler()\n",
    "cols = ['FVC', 'CK', 'Creatinine', 'Phosphorus',\n",
    "       'Alkaline.Phosphatase', 'Albumin', 'Bilirubin', 'Chloride',\n",
    "       'Hematocrit', 'Hemoglobin', 'Potassium', 'Protein', 'Glucose',\n",
    "       'Calcium', 'Sodium', 'Platelets']\n",
    "proact_filterd.loc[:, cols] = scl.fit_transform(proact_filterd.loc[:, cols])"
   ],
   "metadata": {
    "collapsed": false,
    "pycharm": {
     "name": "#%%\n"
    }
   }
  },
  {
   "cell_type": "code",
   "execution_count": 5,
   "outputs": [
    {
     "data": {
      "text/plain": "<AxesSubplot:>"
     },
     "execution_count": 5,
     "metadata": {},
     "output_type": "execute_result"
    },
    {
     "data": {
      "text/plain": "<Figure size 432x288 with 1 Axes>",
      "image/png": "[encoded data removed]"
     },
     "metadata": {
      "needs_background": "light"
     },
     "output_type": "display_data"
    }
   ],
   "source": [
    "proact_filterd['time_months'] = (proact_filterd['time']/365.24) *12  # https://nctu.partners.org/ProACT/Document/DisplayLatest/3\n",
    "proact_filterd['time_months'].hist()"
   ],
   "metadata": {
    "collapsed": false,
    "pycharm": {
     "name": "#%%\n"
    }
   }
  },
  {
   "cell_type": "code",
   "execution_count": 6,
   "outputs": [
    {
     "data": {
      "text/plain": "<AxesSubplot:>"
     },
     "execution_count": 6,
     "metadata": {},
     "output_type": "execute_result"
    },
    {
     "data": {
      "text/plain": "<Figure size 432x288 with 1 Axes>",
      "image/png": "[encoded data removed]"
     },
     "metadata": {
      "needs_background": "light"
     },
     "output_type": "display_data"
    }
   ],
   "source": [
    "proact_filterd['time_months_round'] = proact_filterd['time_months'].round()\n",
    "proact_filterd['time_months_round'].hist()"
   ],
   "metadata": {
    "collapsed": false,
    "pycharm": {
     "name": "#%%\n"
    }
   }
  },
  {
   "cell_type": "code",
   "execution_count": 7,
   "outputs": [
    {
     "data": {
      "text/plain": "     Age  Onset.time  Onset.Bulbar  Onset.Limb  Sex.Male  time  Next.FRS  \\\nID                                                                         \n329   38       -1706             1          -1        -1     0        30   \n329   38       -1706             1          -1        -1    42        30   \n329   38       -1706             1          -1        -1    72        27   \n329   38       -1706             1          -1        -1   135        25   \n329   38       -1706             1          -1        -1   189        26   \n329   38       -1706             1          -1        -1   247        25   \n329   38       -1706             1          -1        -1   274       999   \n533   65       -1023            -1           1        -1     0       999   \n649   48        -341            -1           1        -1     0        35   \n649   48        -341            -1           1        -1    32        36   \n\n     Next.visit.Time  ALSFRS_Total  Q1_Speech  ...  Hematocrit  Hemoglobin  \\\nID                                             ...                           \n329               42            27          4  ...   -0.327586     -0.9375   \n329               30            30          4  ...   -0.844828     -1.5625   \n329               63            30          4  ...   -0.844828     -1.5625   \n329               54            27          4  ...   -0.844828     -1.5625   \n329               58            25          4  ...   -1.189655     -1.5625   \n329               27            26          4  ...   -0.844828     -1.5625   \n329              999            25          4  ...   -1.362069     -1.5625   \n533              999            30          1  ...   -0.379310     -0.1250   \n649               32            36          3  ...   -0.534483     -0.8125   \n649               29            35          3  ...   -0.775862     -0.8750   \n\n     Potassium  Protein   Glucose   Calcium  Sodium  Platelets  time_months  \\\nID                                                                            \n329      -0.25     -0.4 -0.327727 -0.484466   -0.50   0.493333     0.000000   \n329      -0.25     -0.4  0.580455 -0.484466   -0.75   0.040000     1.379915   \n329      -2.75     -0.4  0.227273 -0.484466    0.25  -1.000000     2.365568   \n329      -0.25     -0.4 -0.075455 -0.484466   -0.50  -2.733333     4.435440   \n329      -0.25     -0.4 -0.277273 -0.484466    0.50   1.120000     6.209616   \n329      -0.25     -0.4  0.277727 -0.484466   -0.75   1.480000     8.115212   \n329      -0.25      1.6  1.438182  1.130421    0.00   0.760000     9.002300   \n533       1.00     -0.4  1.942727 -0.645955    0.75  -0.893333     0.000000   \n649       0.25      0.2 -0.428636 -0.968932    0.00   0.386667     0.000000   \n649      -0.50     -0.8  0.025455 -0.968932   -0.50   0.253333     1.051363   \n\n     time_months_round  \nID                      \n329                0.0  \n329                1.0  \n329                2.0  \n329                4.0  \n329                6.0  \n329                8.0  \n329                9.0  \n533                0.0  \n649                0.0  \n649                1.0  \n\n[10 rows x 42 columns]",
      "text/html": "<div>\n<style scoped>\n    .dataframe tbody tr th:only-of-type {\n        vertical-align: middle;\n    }\n\n    .dataframe tbody tr th {\n        vertical-align: top;\n    }\n\n    .dataframe thead th {\n        text-align: right;\n    }\n</style>\n<table border=\"1\" class=\"dataframe\">\n  <thead>\n    <tr style=\"text-align: right;\">\n      <th></th>\n      <th>Age</th>\n      <th>Onset.time</th>\n      <th>Onset.Bulbar</th>\n      <th>Onset.Limb</th>\n      <th>Sex.Male</th>\n      <th>time</th>\n      <th>Next.FRS</th>\n      <th>Next.visit.Time</th>\n      <th>ALSFRS_Total</th>\n      <th>Q1_Speech</th>\n      <th>...</th>\n      <th>Hematocrit</th>\n      <th>Hemoglobin</th>\n      <th>Potassium</th>\n      <th>Protein</th>\n      <th>Glucose</th>\n      <th>Calcium</th>\n      <th>Sodium</th>\n      <th>Platelets</th>\n      <th>time_months</th>\n      <th>time_months_round</th>\n    </tr>\n    <tr>\n      <th>ID</th>\n      <th></th>\n      <th></th>\n      <th></th>\n      <th></th>\n      <th></th>\n      <th></th>\n      <th></th>\n      <th></th>\n      <th></th>\n      <th></th>\n      <th></th>\n      <th></th>\n      <th></th>\n      <th></th>\n      <th></th>\n      <th></th>\n      <th></th>\n      <th></th>\n      <th></th>\n      <th></th>\n      <th></th>\n    </tr>\n  </thead>\n  <tbody>\n    <tr>\n      <th>329</th>\n      <td>38</td>\n      <td>-1706</td>\n      <td>1</td>\n      <td>-1</td>\n      <td>-1</td>\n      <td>0</td>\n      <td>30</td>\n      <td>42</td>\n      <td>27</td>\n      <td>4</td>\n      <td>...</td>\n      <td>-0.327586</td>\n      <td>-0.9375</td>\n      <td>-0.25</td>\n      <td>-0.4</td>\n      <td>-0.327727</td>\n      <td>-0.484466</td>\n      <td>-0.50</td>\n      <td>0.493333</td>\n      <td>0.000000</td>\n      <td>0.0</td>\n    </tr>\n    <tr>\n      <th>329</th>\n      <td>38</td>\n      <td>-1706</td>\n      <td>1</td>\n      <td>-1</td>\n      <td>-1</td>\n      <td>42</td>\n      <td>30</td>\n      <td>30</td>\n      <td>30</td>\n      <td>4</td>\n      <td>...</td>\n      <td>-0.844828</td>\n      <td>-1.5625</td>\n      <td>-0.25</td>\n      <td>-0.4</td>\n      <td>0.580455</td>\n      <td>-0.484466</td>\n      <td>-0.75</td>\n      <td>0.040000</td>\n      <td>1.379915</td>\n      <td>1.0</td>\n    </tr>\n    <tr>\n      <th>329</th>\n      <td>38</td>\n      <td>-1706</td>\n      <td>1</td>\n      <td>-1</td>\n      <td>-1</td>\n      <td>72</td>\n      <td>27</td>\n      <td>63</td>\n      <td>30</td>\n      <td>4</td>\n      <td>...</td>\n      <td>-0.844828</td>\n      <td>-1.5625</td>\n      <td>-2.75</td>\n      <td>-0.4</td>\n      <td>0.227273</td>\n      <td>-0.484466</td>\n      <td>0.25</td>\n      <td>-1.000000</td>\n      <td>2.365568</td>\n      <td>2.0</td>\n    </tr>\n    <tr>\n      <th>329</th>\n      <td>38</td>\n      <td>-1706</td>\n      <td>1</td>\n      <td>-1</td>\n      <td>-1</td>\n      <td>135</td>\n      <td>25</td>\n      <td>54</td>\n      <td>27</td>\n      <td>4</td>\n      <td>...</td>\n      <td>-0.844828</td>\n      <td>-1.5625</td>\n      <td>-0.25</td>\n      <td>-0.4</td>\n      <td>-0.075455</td>\n      <td>-0.484466</td>\n      <td>-0.50</td>\n      <td>-2.733333</td>\n      <td>4.435440</td>\n      <td>4.0</td>\n    </tr>\n    <tr>\n      <th>329</th>\n      <td>38</td>\n      <td>-1706</td>\n      <td>1</td>\n      <td>-1</td>\n      <td>-1</td>\n      <td>189</td>\n      <td>26</td>\n      <td>58</td>\n      <td>25</td>\n      <td>4</td>\n      <td>...</td>\n      <td>-1.189655</td>\n      <td>-1.5625</td>\n      <td>-0.25</td>\n      <td>-0.4</td>\n      <td>-0.277273</td>\n      <td>-0.484466</td>\n      <td>0.50</td>\n      <td>1.120000</td>\n      <td>6.209616</td>\n      <td>6.0</td>\n    </tr>\n    <tr>\n      <th>329</th>\n      <td>38</td>\n      <td>-1706</td>\n      <td>1</td>\n      <td>-1</td>\n      <td>-1</td>\n      <td>247</td>\n      <td>25</td>\n      <td>27</td>\n      <td>26</td>\n      <td>4</td>\n      <td>...</td>\n      <td>-0.844828</td>\n      <td>-1.5625</td>\n      <td>-0.25</td>\n      <td>-0.4</td>\n      <td>0.277727</td>\n      <td>-0.484466</td>\n      <td>-0.75</td>\n      <td>1.480000</td>\n      <td>8.115212</td>\n      <td>8.0</td>\n    </tr>\n    <tr>\n      <th>329</th>\n      <td>38</td>\n      <td>-1706</td>\n      <td>1</td>\n      <td>-1</td>\n      <td>-1</td>\n      <td>274</td>\n      <td>999</td>\n      <td>999</td>\n      <td>25</td>\n      <td>4</td>\n      <td>...</td>\n      <td>-1.362069</td>\n      <td>-1.5625</td>\n      <td>-0.25</td>\n      <td>1.6</td>\n      <td>1.438182</td>\n      <td>1.130421</td>\n      <td>0.00</td>\n      <td>0.760000</td>\n      <td>9.002300</td>\n      <td>9.0</td>\n    </tr>\n    <tr>\n      <th>533</th>\n      <td>65</td>\n      <td>-1023</td>\n      <td>-1</td>\n      <td>1</td>\n      <td>-1</td>\n      <td>0</td>\n      <td>999</td>\n      <td>999</td>\n      <td>30</td>\n      <td>1</td>\n      <td>...</td>\n      <td>-0.379310</td>\n      <td>-0.1250</td>\n      <td>1.00</td>\n      <td>-0.4</td>\n      <td>1.942727</td>\n      <td>-0.645955</td>\n      <td>0.75</td>\n      <td>-0.893333</td>\n      <td>0.000000</td>\n      <td>0.0</td>\n    </tr>\n    <tr>\n      <th>649</th>\n      <td>48</td>\n      <td>-341</td>\n      <td>-1</td>\n      <td>1</td>\n      <td>-1</td>\n      <td>0</td>\n      <td>35</td>\n      <td>32</td>\n      <td>36</td>\n      <td>3</td>\n      <td>...</td>\n      <td>-0.534483</td>\n      <td>-0.8125</td>\n      <td>0.25</td>\n      <td>0.2</td>\n      <td>-0.428636</td>\n      <td>-0.968932</td>\n      <td>0.00</td>\n      <td>0.386667</td>\n      <td>0.000000</td>\n      <td>0.0</td>\n    </tr>\n    <tr>\n      <th>649</th>\n      <td>48</td>\n      <td>-341</td>\n      <td>-1</td>\n      <td>1</td>\n      <td>-1</td>\n      <td>32</td>\n      <td>36</td>\n      <td>29</td>\n      <td>35</td>\n      <td>3</td>\n      <td>...</td>\n      <td>-0.775862</td>\n      <td>-0.8750</td>\n      <td>-0.50</td>\n      <td>-0.8</td>\n      <td>0.025455</td>\n      <td>-0.968932</td>\n      <td>-0.50</td>\n      <td>0.253333</td>\n      <td>1.051363</td>\n      <td>1.0</td>\n    </tr>\n  </tbody>\n</table>\n<p>10 rows × 42 columns</p>\n</div>"
     },
     "execution_count": 7,
     "metadata": {},
     "output_type": "execute_result"
    }
   ],
   "source": [
    "proact_filterd.set_index('ID', inplace=True)\n",
    "proact_filterd.sort_values(['ID','time'], inplace=True)\n",
    "proact_filterd.head(10)\n"
   ],
   "metadata": {
    "collapsed": false,
    "pycharm": {
     "name": "#%%\n"
    }
   }
  },
  {
   "cell_type": "code",
   "execution_count": 8,
   "outputs": [],
   "source": [
    "FRS_cols = proact_filterd.columns[proact_filterd.columns.to_series().str.startswith('Q')].to_list()\n",
    "_id = -88888888\n",
    "\n",
    "rows = []\n",
    "\n",
    "cols = ['FVC', 'CK', 'Creatinine', 'Phosphorus',\n",
    "       'Alkaline.Phosphatase', 'Albumin', 'Bilirubin', 'Chloride',\n",
    "       'Hematocrit', 'Hemoglobin', 'Potassium', 'Protein', 'Glucose',\n",
    "       'Calcium', 'Sodium', 'Platelets']\n",
    "\n",
    "def adder(index, row, FRS_diag):\n",
    "        temp_dict = {}\n",
    "        temp_dict['ID'] = index\n",
    "        temp_dict['time'] = int(row['time'])\n",
    "        temp_dict['Age'] = int(row['Age'])\n",
    "        temp_dict['FRS_diag'] = FRS_diag\n",
    "        temp_dict['ALSFRS_Total'] = int(row['ALSFRS_Total'])\n",
    "        temp_dict['time_months'] = float(row['time_months'])\n",
    "        for col in cols:\n",
    "            temp_dict[col] = row[col]\n",
    "        rows.append(temp_dict)\n",
    "\n",
    "\n",
    "for index, row in proact_filterd.iterrows(): # go over each row\n",
    "    if index != _id:\n",
    "        adder(index, row, 'CLS')\n",
    "        _id = index\n",
    "    for frs_col in FRS_cols:\n",
    "        adder(index, row, f'{frs_col}_score_{int(row[frs_col])}')\n",
    "    adder(index, row, 'SEP')"
   ],
   "metadata": {
    "collapsed": false,
    "pycharm": {
     "name": "#%%\n"
    }
   }
  },
  {
   "cell_type": "code",
   "execution_count": 9,
   "outputs": [
    {
     "data": {
      "text/plain": "            ID  time  Age                    FRS_diag  ALSFRS_Total  \\\n12         329    42   38           Q1_Speech_score_4            30   \n13         329    42   38       Q2_Salivation_score_3            30   \n14         329    42   38       Q3_Swallowing_score_4            30   \n15         329    42   38      Q4_Handwriting_score_3            30   \n16         329    42   38          Q5_Cutting_score_3            30   \n...        ...   ...  ...                         ...           ...   \n246145  999880   238   51   Q7_Turning_in_Bed_score_3            26   \n246146  999880   238   51          Q8_Walking_score_2            26   \n246147  999880   238   51  Q9_Climbing_Stairs_score_0            26   \n246148  999880   238   51     Q10_Respiratory_score_4            26   \n246149  999880   238   51                         SEP            26   \n\n        time_months       FVC        CK  Creatinine  Phosphorus  ...  \\\n12         1.379915  0.705882 -0.410853    0.500566    0.333333  ...   \n13         1.379915  0.705882 -0.410853    0.500566    0.333333  ...   \n14         1.379915  0.705882 -0.410853    0.500566    0.333333  ...   \n15         1.379915  0.705882 -0.410853    0.500566    0.333333  ...   \n16         1.379915  0.705882 -0.410853    0.500566    0.333333  ...   \n...             ...       ...       ...         ...         ...  ...   \n246145     7.819516 -0.735294  0.643411    0.500566   -1.333333  ...   \n246146     7.819516 -0.735294  0.643411    0.500566   -1.333333  ...   \n246147     7.819516 -0.735294  0.643411    0.500566   -1.333333  ...   \n246148     7.819516 -0.735294  0.643411    0.500566   -1.333333  ...   \n246149     7.819516 -0.735294  0.643411    0.500566   -1.333333  ...   \n\n        Chloride  Hematocrit  Hemoglobin  Potassium  Protein   Glucose  \\\n12          0.25   -0.844828     -1.5625      -0.25     -0.4  0.580455   \n13          0.25   -0.844828     -1.5625      -0.25     -0.4  0.580455   \n14          0.25   -0.844828     -1.5625      -0.25     -0.4  0.580455   \n15          0.25   -0.844828     -1.5625      -0.25     -0.4  0.580455   \n16          0.25   -0.844828     -1.5625      -0.25     -0.4  0.580455   \n...          ...         ...         ...        ...      ...       ...   \n246145     -0.25    0.879310      0.9375      -0.25     -0.4 -1.235909   \n246146     -0.25    0.879310      0.9375      -0.25     -0.4 -1.235909   \n246147     -0.25    0.879310      0.9375      -0.25     -0.4 -1.235909   \n246148     -0.25    0.879310      0.9375      -0.25     -0.4 -1.235909   \n246149     -0.25    0.879310      0.9375      -0.25     -0.4 -1.235909   \n\n         Calcium  Sodium  Platelets  rank  \n12     -0.484466   -0.75   0.040000     1  \n13     -0.484466   -0.75   0.040000     1  \n14     -0.484466   -0.75   0.040000     1  \n15     -0.484466   -0.75   0.040000     1  \n16     -0.484466   -0.75   0.040000     1  \n...          ...     ...        ...   ...  \n246145 -0.484466    1.00  -0.666667     5  \n246146 -0.484466    1.00  -0.666667     5  \n246147 -0.484466    1.00  -0.666667     5  \n246148 -0.484466    1.00  -0.666667     5  \n246149 -0.484466    1.00  -0.666667     5  \n\n[208098 rows x 23 columns]",
      "text/html": "<div>\n<style scoped>\n    .dataframe tbody tr th:only-of-type {\n        vertical-align: middle;\n    }\n\n    .dataframe tbody tr th {\n        vertical-align: top;\n    }\n\n    .dataframe thead th {\n        text-align: right;\n    }\n</style>\n<table border=\"1\" class=\"dataframe\">\n  <thead>\n    <tr style=\"text-align: right;\">\n      <th></th>\n      <th>ID</th>\n      <th>time</th>\n      <th>Age</th>\n      <th>FRS_diag</th>\n      <th>ALSFRS_Total</th>\n      <th>time_months</th>\n      <th>FVC</th>\n      <th>CK</th>\n      <th>Creatinine</th>\n      <th>Phosphorus</th>\n      <th>...</th>\n      <th>Chloride</th>\n      <th>Hematocrit</th>\n      <th>Hemoglobin</th>\n      <th>Potassium</th>\n      <th>Protein</th>\n      <th>Glucose</th>\n      <th>Calcium</th>\n      <th>Sodium</th>\n      <th>Platelets</th>\n      <th>rank</th>\n    </tr>\n  </thead>\n  <tbody>\n    <tr>\n      <th>12</th>\n      <td>329</td>\n      <td>42</td>\n      <td>38</td>\n      <td>Q1_Speech_score_4</td>\n      <td>30</td>\n      <td>1.379915</td>\n      <td>0.705882</td>\n      <td>-0.410853</td>\n      <td>0.500566</td>\n      <td>0.333333</td>\n      <td>...</td>\n      <td>0.25</td>\n      <td>-0.844828</td>\n      <td>-1.5625</td>\n      <td>-0.25</td>\n      <td>-0.4</td>\n      <td>0.580455</td>\n      <td>-0.484466</td>\n      <td>-0.75</td>\n      <td>0.040000</td>\n      <td>1</td>\n    </tr>\n    <tr>\n      <th>13</th>\n      <td>329</td>\n      <td>42</td>\n      <td>38</td>\n      <td>Q2_Salivation_score_3</td>\n      <td>30</td>\n      <td>1.379915</td>\n      <td>0.705882</td>\n      <td>-0.410853</td>\n      <td>0.500566</td>\n      <td>0.333333</td>\n      <td>...</td>\n      <td>0.25</td>\n      <td>-0.844828</td>\n      <td>-1.5625</td>\n      <td>-0.25</td>\n      <td>-0.4</td>\n      <td>0.580455</td>\n      <td>-0.484466</td>\n      <td>-0.75</td>\n      <td>0.040000</td>\n      <td>1</td>\n    </tr>\n    <tr>\n      <th>14</th>\n      <td>329</td>\n      <td>42</td>\n      <td>38</td>\n      <td>Q3_Swallowing_score_4</td>\n      <td>30</td>\n      <td>1.379915</td>\n      <td>0.705882</td>\n      <td>-0.410853</td>\n      <td>0.500566</td>\n      <td>0.333333</td>\n      <td>...</td>\n      <td>0.25</td>\n      <td>-0.844828</td>\n      <td>-1.5625</td>\n      <td>-0.25</td>\n      <td>-0.4</td>\n      <td>0.580455</td>\n      <td>-0.484466</td>\n      <td>-0.75</td>\n      <td>0.040000</td>\n      <td>1</td>\n    </tr>\n    <tr>\n      <th>15</th>\n      <td>329</td>\n      <td>42</td>\n      <td>38</td>\n      <td>Q4_Handwriting_score_3</td>\n      <td>30</td>\n      <td>1.379915</td>\n      <td>0.705882</td>\n      <td>-0.410853</td>\n      <td>0.500566</td>\n      <td>0.333333</td>\n      <td>...</td>\n      <td>0.25</td>\n      <td>-0.844828</td>\n      <td>-1.5625</td>\n      <td>-0.25</td>\n      <td>-0.4</td>\n      <td>0.580455</td>\n      <td>-0.484466</td>\n      <td>-0.75</td>\n      <td>0.040000</td>\n      <td>1</td>\n    </tr>\n    <tr>\n      <th>16</th>\n      <td>329</td>\n      <td>42</td>\n      <td>38</td>\n      <td>Q5_Cutting_score_3</td>\n      <td>30</td>\n      <td>1.379915</td>\n      <td>0.705882</td>\n      <td>-0.410853</td>\n      <td>0.500566</td>\n      <td>0.333333</td>\n      <td>...</td>\n      <td>0.25</td>\n      <td>-0.844828</td>\n      <td>-1.5625</td>\n      <td>-0.25</td>\n      <td>-0.4</td>\n      <td>0.580455</td>\n      <td>-0.484466</td>\n      <td>-0.75</td>\n      <td>0.040000</td>\n      <td>1</td>\n    </tr>\n    <tr>\n      <th>...</th>\n      <td>...</td>\n      <td>...</td>\n      <td>...</td>\n      <td>...</td>\n      <td>...</td>\n      <td>...</td>\n      <td>...</td>\n      <td>...</td>\n      <td>...</td>\n      <td>...</td>\n      <td>...</td>\n      <td>...</td>\n      <td>...</td>\n      <td>...</td>\n      <td>...</td>\n      <td>...</td>\n      <td>...</td>\n      <td>...</td>\n      <td>...</td>\n      <td>...</td>\n      <td>...</td>\n    </tr>\n    <tr>\n      <th>246145</th>\n      <td>999880</td>\n      <td>238</td>\n      <td>51</td>\n      <td>Q7_Turning_in_Bed_score_3</td>\n      <td>26</td>\n      <td>7.819516</td>\n      <td>-0.735294</td>\n      <td>0.643411</td>\n      <td>0.500566</td>\n      <td>-1.333333</td>\n      <td>...</td>\n      <td>-0.25</td>\n      <td>0.879310</td>\n      <td>0.9375</td>\n      <td>-0.25</td>\n      <td>-0.4</td>\n      <td>-1.235909</td>\n      <td>-0.484466</td>\n      <td>1.00</td>\n      <td>-0.666667</td>\n      <td>5</td>\n    </tr>\n    <tr>\n      <th>246146</th>\n      <td>999880</td>\n      <td>238</td>\n      <td>51</td>\n      <td>Q8_Walking_score_2</td>\n      <td>26</td>\n      <td>7.819516</td>\n      <td>-0.735294</td>\n      <td>0.643411</td>\n      <td>0.500566</td>\n      <td>-1.333333</td>\n      <td>...</td>\n      <td>-0.25</td>\n      <td>0.879310</td>\n      <td>0.9375</td>\n      <td>-0.25</td>\n      <td>-0.4</td>\n      <td>-1.235909</td>\n      <td>-0.484466</td>\n      <td>1.00</td>\n      <td>-0.666667</td>\n      <td>5</td>\n    </tr>\n    <tr>\n      <th>246147</th>\n      <td>999880</td>\n      <td>238</td>\n      <td>51</td>\n      <td>Q9_Climbing_Stairs_score_0</td>\n      <td>26</td>\n      <td>7.819516</td>\n      <td>-0.735294</td>\n      <td>0.643411</td>\n      <td>0.500566</td>\n      <td>-1.333333</td>\n      <td>...</td>\n      <td>-0.25</td>\n      <td>0.879310</td>\n      <td>0.9375</td>\n      <td>-0.25</td>\n      <td>-0.4</td>\n      <td>-1.235909</td>\n      <td>-0.484466</td>\n      <td>1.00</td>\n      <td>-0.666667</td>\n      <td>5</td>\n    </tr>\n    <tr>\n      <th>246148</th>\n      <td>999880</td>\n      <td>238</td>\n      <td>51</td>\n      <td>Q10_Respiratory_score_4</td>\n      <td>26</td>\n      <td>7.819516</td>\n      <td>-0.735294</td>\n      <td>0.643411</td>\n      <td>0.500566</td>\n      <td>-1.333333</td>\n      <td>...</td>\n      <td>-0.25</td>\n      <td>0.879310</td>\n      <td>0.9375</td>\n      <td>-0.25</td>\n      <td>-0.4</td>\n      <td>-1.235909</td>\n      <td>-0.484466</td>\n      <td>1.00</td>\n      <td>-0.666667</td>\n      <td>5</td>\n    </tr>\n    <tr>\n      <th>246149</th>\n      <td>999880</td>\n      <td>238</td>\n      <td>51</td>\n      <td>SEP</td>\n      <td>26</td>\n      <td>7.819516</td>\n      <td>-0.735294</td>\n      <td>0.643411</td>\n      <td>0.500566</td>\n      <td>-1.333333</td>\n      <td>...</td>\n      <td>-0.25</td>\n      <td>0.879310</td>\n      <td>0.9375</td>\n      <td>-0.25</td>\n      <td>-0.4</td>\n      <td>-1.235909</td>\n      <td>-0.484466</td>\n      <td>1.00</td>\n      <td>-0.666667</td>\n      <td>5</td>\n    </tr>\n  </tbody>\n</table>\n<p>208098 rows × 23 columns</p>\n</div>"
     },
     "execution_count": 9,
     "metadata": {},
     "output_type": "execute_result"
    }
   ],
   "source": [
    "melted = pd.DataFrame(rows)\n",
    "melted = melted.sort_values(['ID', 'time'])\n",
    "melted['rank'] = melted.groupby('ID')['time'].rank(method='dense').astype('int8')\n",
    "melted['rank'] = melted['rank'] - 1\n",
    "melted.loc[melted['rank'] > 0]"
   ],
   "metadata": {
    "collapsed": false,
    "pycharm": {
     "name": "#%%\n"
    }
   }
  },
  {
   "cell_type": "code",
   "execution_count": 10,
   "outputs": [],
   "source": [
    "# set age to string\n",
    "melted['age'] = melted['Age'].astype(str)"
   ],
   "metadata": {
    "collapsed": false,
    "pycharm": {
     "name": "#%%\n"
    }
   }
  },
  {
   "cell_type": "code",
   "execution_count": 10,
   "outputs": [],
   "source": [],
   "metadata": {
    "collapsed": false,
    "pycharm": {
     "name": "#%%\n"
    }
   }
  },
  {
   "cell_type": "code",
   "execution_count": 11,
   "outputs": [],
   "source": [
    "less_than_3 = melted['ID'].value_counts().index.sort_values()[melted.groupby('ID').max()['time_months'] <= 3]\n",
    "more_than_3 = melted['ID'].value_counts().index.sort_values()[melted.groupby('ID').max()['time_months'] > 3]\n",
    "less_than_3_df = melted.loc[melted['ID'].isin(less_than_3)]\n",
    "more_than_3_df = melted.loc[melted['ID'].isin(more_than_3)]"
   ],
   "metadata": {
    "collapsed": false,
    "pycharm": {
     "name": "#%%\n"
    }
   }
  },
  {
   "cell_type": "code",
   "execution_count": 26,
   "outputs": [],
   "source": [
    "def get_months(days):\n",
    "      return (days/365.24) *12\n",
    "\n",
    "def get_days(months):\n",
    "    return (months / 12) * 365.24\n",
    "\n",
    "\n",
    "def save_melted(inner_melted):\n",
    "    not_inner_melted_rank = inner_melted.groupby(['ID'])['rank'].apply(list).to_frame()\n",
    "    not_inner_melted_diag = inner_melted.groupby(['ID'])['FRS_diag'].apply(list).to_frame()\n",
    "    not_inner_melted_age = inner_melted.groupby(['ID'])['age'].apply(list).to_frame()\n",
    "    not_inner_melted_ALSFRS_Total = inner_melted.groupby(['ID'])['ALSFRS_Total'].apply(list).to_frame()\n",
    "    not_inner_melted_time_months = inner_melted.groupby(['ID'])['time'].apply(list).to_frame()\n",
    "    non_inner_melted_lab = [inner_melted.groupby(['ID'])[col].apply(list).to_frame() for col in cols]\n",
    "    for_behrt = pd.concat([not_inner_melted_diag,not_inner_melted_rank, not_inner_melted_age,not_inner_melted_ALSFRS_Total,not_inner_melted_time_months] + non_inner_melted_lab, axis=1).reset_index()\n",
    "    for_behrt['fixed_time'] = for_behrt['time'].apply(lambda x : [i - x[0] for i in x])\n",
    "    for_behrt['fixed_months'] = for_behrt['fixed_time'].apply(lambda x: [get_months(i) for i in x])\n",
    "    for_behrt.to_parquet(f'../data/for_behrt_wrt_months.parquet')\n",
    "\n",
    "\n",
    "save_melted(melted)"
   ],
   "metadata": {
    "collapsed": false,
    "pycharm": {
     "name": "#%%\n"
    }
   }
  },
  {
   "cell_type": "code",
   "execution_count": 27,
   "outputs": [
    {
     "data": {
      "text/plain": "          ID                                           FRS_diag  \\\n0        329  [CLS, Q1_Speech_score_4, Q2_Salivation_score_3...   \n1        533  [CLS, Q1_Speech_score_1, Q2_Salivation_score_2...   \n2        649  [CLS, Q1_Speech_score_3, Q2_Salivation_score_3...   \n3        708  [CLS, Q1_Speech_score_3, Q2_Salivation_score_3...   \n4       1234  [CLS, Q1_Speech_score_2, Q2_Salivation_score_3...   \n...      ...                                                ...   \n3166  998519  [CLS, Q1_Speech_score_4, Q2_Salivation_score_4...   \n3167  998542  [CLS, Q1_Speech_score_4, Q2_Salivation_score_3...   \n3168  998764  [CLS, Q1_Speech_score_4, Q2_Salivation_score_4...   \n3169  999482  [CLS, Q1_Speech_score_3, Q2_Salivation_score_3...   \n3170  999880  [CLS, Q1_Speech_score_4, Q2_Salivation_score_4...   \n\n                                                   rank  \\\n0     [0, 0, 0, 0, 0, 0, 0, 0, 0, 0, 0, 0, 1, 1, 1, ...   \n1                  [0, 0, 0, 0, 0, 0, 0, 0, 0, 0, 0, 0]   \n2     [0, 0, 0, 0, 0, 0, 0, 0, 0, 0, 0, 0, 1, 1, 1, ...   \n3     [0, 0, 0, 0, 0, 0, 0, 0, 0, 0, 0, 0, 1, 1, 1, ...   \n4     [0, 0, 0, 0, 0, 0, 0, 0, 0, 0, 0, 0, 1, 1, 1, ...   \n...                                                 ...   \n3166  [0, 0, 0, 0, 0, 0, 0, 0, 0, 0, 0, 0, 1, 1, 1, ...   \n3167               [0, 0, 0, 0, 0, 0, 0, 0, 0, 0, 0, 0]   \n3168  [0, 0, 0, 0, 0, 0, 0, 0, 0, 0, 0, 0, 1, 1, 1, ...   \n3169  [0, 0, 0, 0, 0, 0, 0, 0, 0, 0, 0, 0, 1, 1, 1, ...   \n3170  [0, 0, 0, 0, 0, 0, 0, 0, 0, 0, 0, 0, 1, 1, 1, ...   \n\n                                                    age  \\\n0     [38, 38, 38, 38, 38, 38, 38, 38, 38, 38, 38, 3...   \n1      [65, 65, 65, 65, 65, 65, 65, 65, 65, 65, 65, 65]   \n2     [48, 48, 48, 48, 48, 48, 48, 48, 48, 48, 48, 4...   \n3     [46, 46, 46, 46, 46, 46, 46, 46, 46, 46, 46, 4...   \n4     [38, 38, 38, 38, 38, 38, 38, 38, 38, 38, 38, 3...   \n...                                                 ...   \n3166  [42, 42, 42, 42, 42, 42, 42, 42, 42, 42, 42, 4...   \n3167   [70, 70, 70, 70, 70, 70, 70, 70, 70, 70, 70, 70]   \n3168  [66, 66, 66, 66, 66, 66, 66, 66, 66, 66, 66, 6...   \n3169  [48, 48, 48, 48, 48, 48, 48, 48, 48, 48, 48, 4...   \n3170  [51, 51, 51, 51, 51, 51, 51, 51, 51, 51, 51, 5...   \n\n                                           ALSFRS_Total  \\\n0     [27, 27, 27, 27, 27, 27, 27, 27, 27, 27, 27, 2...   \n1      [30, 30, 30, 30, 30, 30, 30, 30, 30, 30, 30, 30]   \n2     [36, 36, 36, 36, 36, 36, 36, 36, 36, 36, 36, 3...   \n3     [33, 33, 33, 33, 33, 33, 33, 33, 33, 33, 33, 3...   \n4     [21, 21, 21, 21, 21, 21, 21, 21, 21, 21, 21, 2...   \n...                                                 ...   \n3166  [29, 29, 29, 29, 29, 29, 29, 29, 29, 29, 29, 2...   \n3167   [28, 28, 28, 28, 28, 28, 28, 28, 28, 28, 28, 28]   \n3168  [27, 27, 27, 27, 27, 27, 27, 27, 27, 27, 27, 2...   \n3169  [37, 37, 37, 37, 37, 37, 37, 37, 37, 37, 37, 3...   \n3170  [24, 24, 24, 24, 24, 24, 24, 24, 24, 24, 24, 2...   \n\n                                                   time  \\\n0     [0, 0, 0, 0, 0, 0, 0, 0, 0, 0, 0, 0, 42, 42, 4...   \n1                  [0, 0, 0, 0, 0, 0, 0, 0, 0, 0, 0, 0]   \n2     [0, 0, 0, 0, 0, 0, 0, 0, 0, 0, 0, 0, 32, 32, 3...   \n3     [0, 0, 0, 0, 0, 0, 0, 0, 0, 0, 0, 0, 35, 35, 3...   \n4     [0, 0, 0, 0, 0, 0, 0, 0, 0, 0, 0, 0, 11, 11, 1...   \n...                                                 ...   \n3166  [0, 0, 0, 0, 0, 0, 0, 0, 0, 0, 0, 0, 87, 87, 8...   \n3167               [0, 0, 0, 0, 0, 0, 0, 0, 0, 0, 0, 0]   \n3168  [0, 0, 0, 0, 0, 0, 0, 0, 0, 0, 0, 0, 28, 28, 2...   \n3169  [14, 14, 14, 14, 14, 14, 14, 14, 14, 14, 14, 1...   \n3170  [0, 0, 0, 0, 0, 0, 0, 0, 0, 0, 0, 0, 49, 49, 4...   \n\n                                                    FVC  \\\n0     [0.5294117647058824, 0.5294117647058824, 0.529...   \n1     [0.029411764705882353, 0.029411764705882353, 0...   \n2     [1.1764705882352942, 1.1764705882352942, 1.176...   \n3     [-0.8235294117647058, -0.8235294117647058, -0....   \n4     [-0.5588235294117647, -0.5588235294117647, -0....   \n...                                                 ...   \n3166  [-0.4411764705882353, -0.4411764705882353, -0....   \n3167  [0.3235294117647059, 0.3235294117647059, 0.323...   \n3168  [0.3235294117647059, 0.3235294117647059, 0.323...   \n3169  [0.0, 0.0, 0.0, 0.0, 0.0, 0.0, 0.0, 0.0, 0.0, ...   \n3170  [-0.7058823529411765, -0.7058823529411765, -0....   \n\n                                                     CK  \\\n0     [0.5271317829457365, 0.5271317829457365, 0.527...   \n1     [-0.37209302325581395, -0.37209302325581395, -...   \n2     [-0.5697674418604651, -0.5697674418604651, -0....   \n3     [-0.5271317829457365, -0.5271317829457365, -0....   \n4     [0.003875968992248062, 0.003875968992248062, 0...   \n...                                                 ...   \n3166  [-0.5503875968992248, -0.5503875968992248, -0....   \n3167  [0.003875968992248062, 0.003875968992248062, 0...   \n3168  [-0.4844961240310077, -0.4844961240310077, -0....   \n3169  [-0.5503875968992248, -0.5503875968992248, -0....   \n3170  [0.5813953488372093, 0.5813953488372093, 0.581...   \n\n                                             Creatinine  \\\n0     [0.5005656108597285, 0.5005656108597285, 0.500...   \n1     [0.25056561085972845, 0.25056561085972845, 0.2...   \n2     [-0.4994343891402715, -0.4994343891402715, -0....   \n3     [0.5005656108597285, 0.5005656108597285, 0.500...   \n4     [0.5005656108597285, 0.5005656108597285, 0.500...   \n...                                                 ...   \n3166  [0.5005656108597285, 0.5005656108597285, 0.500...   \n3167  [-0.4994343891402715, -0.4994343891402715, -0....   \n3168  [-0.4994343891402715, -0.4994343891402715, -0....   \n3169  [0.06504524886877819, 0.06504524886877819, 0.0...   \n3170  [0.5005656108597285, 0.5005656108597285, 0.500...   \n\n                                             Phosphorus  ...  \\\n0     [0.3333333333333326, 0.3333333333333326, 0.333...  ...   \n1     [-2.0000000000000027, -2.0000000000000027, -2....  ...   \n2     [-1.3333333333333355, -1.3333333333333355, -1....  ...   \n3     [-1.3333333333333355, -1.3333333333333355, -1....  ...   \n4     [1.166666666666668, 1.166666666666668, 1.16666...  ...   \n...                                                 ...  ...   \n3166  [0.3333333333333326, 0.3333333333333326, 0.333...  ...   \n3167  [0.8333333333333343, 0.8333333333333343, 0.833...  ...   \n3168  [-0.5000000000000006, -0.5000000000000006, -0....  ...   \n3169  [0.47781217750258065, 0.47781217750258065, 0.4...  ...   \n3170  [-1.3333333333333355, -1.3333333333333355, -1....  ...   \n\n                                             Hematocrit  \\\n0     [-0.32758620689655166, -0.32758620689655166, -...   \n1     [-0.37931034482758563, -0.37931034482758563, -...   \n2     [-0.5344827586206902, -0.5344827586206902, -0....   \n3     [0.01724137931034508, 0.01724137931034508, 0.0...   \n4     [0.8103448275862077, 0.8103448275862077, 0.810...   \n...                                                 ...   \n3166  [-0.5, -0.5, -0.5, -0.5, -0.5, -0.5, -0.5, -0....   \n3167  [0.17241379310344837, 0.17241379310344837, 0.1...   \n3168  [-0.4137931034482758, -0.4137931034482758, -0....   \n3169  [1.0517241379310351, 1.0517241379310351, 1.051...   \n3170  [0.7068965517241386, 0.7068965517241386, 0.706...   \n\n                                             Hemoglobin  \\\n0     [-0.9375, -0.9375, -0.9375, -0.9375, -0.9375, ...   \n1     [-0.125, -0.125, -0.125, -0.125, -0.125, -0.12...   \n2     [-0.8125, -0.8125, -0.8125, -0.8125, -0.8125, ...   \n3     [0.3125, 0.3125, 0.3125, 0.3125, 0.3125, 0.312...   \n4     [0.8125, 0.8125, 0.8125, 0.8125, 0.8125, 0.812...   \n...                                                 ...   \n3166  [-0.3125, -0.3125, -0.3125, -0.3125, -0.3125, ...   \n3167  [1.0, 1.0, 1.0, 1.0, 1.0, 1.0, 1.0, 1.0, 1.0, ...   \n3168  [-0.4375, -0.4375, -0.4375, -0.4375, -0.4375, ...   \n3169  [1.0625, 1.0625, 1.0625, 1.0625, 1.0625, 1.062...   \n3170  [0.9375, 0.9375, 0.9375, 0.9375, 0.9375, 0.937...   \n\n                                              Potassium  \\\n0     [-0.2499999999999989, -0.2499999999999989, -0....   \n1     [1.0, 1.0, 1.0, 1.0, 1.0, 1.0, 1.0, 1.0, 1.0, ...   \n2     [0.2500000000000011, 0.2500000000000011, 0.250...   \n3     [2.249999999999999, 2.249999999999999, 2.24999...   \n4     [-0.2499999999999989, -0.2499999999999989, -0....   \n...                                                 ...   \n3166  [-0.2499999999999989, -0.2499999999999989, -0....   \n3167  [0.2500000000000011, 0.2500000000000011, 0.250...   \n3168  [0.7500000000000011, 0.7500000000000011, 0.750...   \n3169  [1.5, 1.5, 1.5, 1.5, 1.5, 1.5, 1.5, 1.5, 1.5, ...   \n3170  [-0.2499999999999989, -0.2499999999999989, -0....   \n\n                                                Protein  \\\n0     [-0.4, -0.4, -0.4, -0.4, -0.4, -0.4, -0.4, -0....   \n1     [-0.4, -0.4, -0.4, -0.4, -0.4, -0.4, -0.4, -0....   \n2     [0.2, 0.2, 0.2, 0.2, 0.2, 0.2, 0.2, 0.2, 0.2, ...   \n3     [1.6, 1.6, 1.6, 1.6, 1.6, 1.6, 1.6, 1.6, 1.6, ...   \n4     [1.2, 1.2, 1.2, 1.2, 1.2, 1.2, 1.2, 1.2, 1.2, ...   \n...                                                 ...   \n3166  [-0.4, -0.4, -0.4, -0.4, -0.4, -0.4, -0.4, -0....   \n3167  [-1.2, -1.2, -1.2, -1.2, -1.2, -1.2, -1.2, -1....   \n3168  [-0.2, -0.2, -0.2, -0.2, -0.2, -0.2, -0.2, -0....   \n3169  [1.0, 1.0, 1.0, 1.0, 1.0, 1.0, 1.0, 1.0, 1.0, ...   \n3170  [-0.4, -0.4, -0.4, -0.4, -0.4, -0.4, -0.4, -0....   \n\n                                                Glucose  \\\n0     [-0.3277272727272726, -0.3277272727272726, -0....   \n1     [1.9427272727272722, 1.9427272727272722, 1.942...   \n2     [-0.42863636363636326, -0.42863636363636326, -...   \n3     [-0.3277272727272726, -0.3277272727272726, -0....   \n4     [-0.17636363636363622, -0.17636363636363622, -...   \n...                                                 ...   \n3166  [-0.5295454545454539, -0.5295454545454539, -0....   \n3167  [0.17681818181818224, 0.17681818181818224, 0.1...   \n3168  [-0.47909090909090896, -0.47909090909090896, -...   \n3169  [-0.09090909090909054, -0.09090909090909054, -...   \n3170  [-0.8827272727272724, -0.8827272727272724, -0....   \n\n                                                Calcium  \\\n0     [-0.484466019417476, -0.484466019417476, -0.48...   \n1     [-0.6459546925566347, -0.6459546925566347, -0....   \n2     [-0.9689320388349492, -0.9689320388349492, -0....   \n3     [1.1304207119741108, 1.1304207119741108, 1.130...   \n4     [0.32297734627831737, 0.32297734627831737, 0.3...   \n...                                                 ...   \n3166  [-0.484466019417476, -0.484466019417476, -0.48...   \n3167  [-0.16148867313915868, -0.16148867313915868, -...   \n3168  [-0.9689320388349492, -0.9689320388349492, -0....   \n3169  [1.0333333333333332, 1.0333333333333332, 1.033...   \n3170  [-0.484466019417476, -0.484466019417476, -0.48...   \n\n                                                 Sodium  \\\n0     [-0.5, -0.5, -0.5, -0.5, -0.5, -0.5, -0.5, -0....   \n1     [0.75, 0.75, 0.75, 0.75, 0.75, 0.75, 0.75, 0.7...   \n2     [0.0, 0.0, 0.0, 0.0, 0.0, 0.0, 0.0, 0.0, 0.0, ...   \n3     [1.25, 1.25, 1.25, 1.25, 1.25, 1.25, 1.25, 1.2...   \n4     [0.75, 0.75, 0.75, 0.75, 0.75, 0.75, 0.75, 0.7...   \n...                                                 ...   \n3166  [0.75, 0.75, 0.75, 0.75, 0.75, 0.75, 0.75, 0.7...   \n3167  [0.0, 0.0, 0.0, 0.0, 0.0, 0.0, 0.0, 0.0, 0.0, ...   \n3168  [0.5, 0.5, 0.5, 0.5, 0.5, 0.5, 0.5, 0.5, 0.5, ...   \n3169  [-0.5, -0.5, -0.5, -0.5, -0.5, -0.5, -0.5, -0....   \n3170  [0.5, 0.5, 0.5, 0.5, 0.5, 0.5, 0.5, 0.5, 0.5, ...   \n\n                                              Platelets  \\\n0     [0.49333333333333335, 0.49333333333333335, 0.4...   \n1     [-0.8933333333333333, -0.8933333333333333, -0....   \n2     [0.38666666666666666, 0.38666666666666666, 0.3...   \n3     [0.013333333333333334, 0.013333333333333334, 0...   \n4     [-0.28, -0.28, -0.28, -0.28, -0.28, -0.28, -0....   \n...                                                 ...   \n3166  [2.64, 2.64, 2.64, 2.64, 2.64, 2.64, 2.64, 2.6...   \n3167  [2.56, 2.56, 2.56, 2.56, 2.56, 2.56, 2.56, 2.5...   \n3168  [-0.25333333333333335, -0.25333333333333335, -...   \n3169  [1.2666666666666666, 1.2666666666666666, 1.266...   \n3170  [-0.5066666666666667, -0.5066666666666667, -0....   \n\n                                             fixed_time  \\\n0     [0, 0, 0, 0, 0, 0, 0, 0, 0, 0, 0, 0, 42, 42, 4...   \n1                  [0, 0, 0, 0, 0, 0, 0, 0, 0, 0, 0, 0]   \n2     [0, 0, 0, 0, 0, 0, 0, 0, 0, 0, 0, 0, 32, 32, 3...   \n3     [0, 0, 0, 0, 0, 0, 0, 0, 0, 0, 0, 0, 35, 35, 3...   \n4     [0, 0, 0, 0, 0, 0, 0, 0, 0, 0, 0, 0, 11, 11, 1...   \n...                                                 ...   \n3166  [0, 0, 0, 0, 0, 0, 0, 0, 0, 0, 0, 0, 87, 87, 8...   \n3167               [0, 0, 0, 0, 0, 0, 0, 0, 0, 0, 0, 0]   \n3168  [0, 0, 0, 0, 0, 0, 0, 0, 0, 0, 0, 0, 28, 28, 2...   \n3169  [0, 0, 0, 0, 0, 0, 0, 0, 0, 0, 0, 0, 35, 35, 3...   \n3170  [0, 0, 0, 0, 0, 0, 0, 0, 0, 0, 0, 0, 49, 49, 4...   \n\n                                           fixed_months  \n0     [0.0, 0.0, 0.0, 0.0, 0.0, 0.0, 0.0, 0.0, 0.0, ...  \n1     [0.0, 0.0, 0.0, 0.0, 0.0, 0.0, 0.0, 0.0, 0.0, ...  \n2     [0.0, 0.0, 0.0, 0.0, 0.0, 0.0, 0.0, 0.0, 0.0, ...  \n3     [0.0, 0.0, 0.0, 0.0, 0.0, 0.0, 0.0, 0.0, 0.0, ...  \n4     [0.0, 0.0, 0.0, 0.0, 0.0, 0.0, 0.0, 0.0, 0.0, ...  \n...                                                 ...  \n3166  [0.0, 0.0, 0.0, 0.0, 0.0, 0.0, 0.0, 0.0, 0.0, ...  \n3167  [0.0, 0.0, 0.0, 0.0, 0.0, 0.0, 0.0, 0.0, 0.0, ...  \n3168  [0.0, 0.0, 0.0, 0.0, 0.0, 0.0, 0.0, 0.0, 0.0, ...  \n3169  [0.0, 0.0, 0.0, 0.0, 0.0, 0.0, 0.0, 0.0, 0.0, ...  \n3170  [0.0, 0.0, 0.0, 0.0, 0.0, 0.0, 0.0, 0.0, 0.0, ...  \n\n[3171 rows x 24 columns]",
      "text/html": "<div>\n<style scoped>\n    .dataframe tbody tr th:only-of-type {\n        vertical-align: middle;\n    }\n\n    .dataframe tbody tr th {\n        vertical-align: top;\n    }\n\n    .dataframe thead th {\n        text-align: right;\n    }\n</style>\n<table border=\"1\" class=\"dataframe\">\n  <thead>\n    <tr style=\"text-align: right;\">\n      <th></th>\n      <th>ID</th>\n      <th>FRS_diag</th>\n      <th>rank</th>\n      <th>age</th>\n      <th>ALSFRS_Total</th>\n      <th>time</th>\n      <th>FVC</th>\n      <th>CK</th>\n      <th>Creatinine</th>\n      <th>Phosphorus</th>\n      <th>...</th>\n      <th>Hematocrit</th>\n      <th>Hemoglobin</th>\n      <th>Potassium</th>\n      <th>Protein</th>\n      <th>Glucose</th>\n      <th>Calcium</th>\n      <th>Sodium</th>\n      <th>Platelets</th>\n      <th>fixed_time</th>\n      <th>fixed_months</th>\n    </tr>\n  </thead>\n  <tbody>\n    <tr>\n      <th>0</th>\n      <td>329</td>\n      <td>[CLS, Q1_Speech_score_4, Q2_Salivation_score_3...</td>\n      <td>[0, 0, 0, 0, 0, 0, 0, 0, 0, 0, 0, 0, 1, 1, 1, ...</td>\n      <td>[38, 38, 38, 38, 38, 38, 38, 38, 38, 38, 38, 3...</td>\n      <td>[27, 27, 27, 27, 27, 27, 27, 27, 27, 27, 27, 2...</td>\n      <td>[0, 0, 0, 0, 0, 0, 0, 0, 0, 0, 0, 0, 42, 42, 4...</td>\n      <td>[0.5294117647058824, 0.5294117647058824, 0.529...</td>\n      <td>[0.5271317829457365, 0.5271317829457365, 0.527...</td>\n      <td>[0.5005656108597285, 0.5005656108597285, 0.500...</td>\n      <td>[0.3333333333333326, 0.3333333333333326, 0.333...</td>\n      <td>...</td>\n      <td>[-0.32758620689655166, -0.32758620689655166, -...</td>\n      <td>[-0.9375, -0.9375, -0.9375, -0.9375, -0.9375, ...</td>\n      <td>[-0.2499999999999989, -0.2499999999999989, -0....</td>\n      <td>[-0.4, -0.4, -0.4, -0.4, -0.4, -0.4, -0.4, -0....</td>\n      <td>[-0.3277272727272726, -0.3277272727272726, -0....</td>\n      <td>[-0.484466019417476, -0.484466019417476, -0.48...</td>\n      <td>[-0.5, -0.5, -0.5, -0.5, -0.5, -0.5, -0.5, -0....</td>\n      <td>[0.49333333333333335, 0.49333333333333335, 0.4...</td>\n      <td>[0, 0, 0, 0, 0, 0, 0, 0, 0, 0, 0, 0, 42, 42, 4...</td>\n      <td>[0.0, 0.0, 0.0, 0.0, 0.0, 0.0, 0.0, 0.0, 0.0, ...</td>\n    </tr>\n    <tr>\n      <th>1</th>\n      <td>533</td>\n      <td>[CLS, Q1_Speech_score_1, Q2_Salivation_score_2...</td>\n      <td>[0, 0, 0, 0, 0, 0, 0, 0, 0, 0, 0, 0]</td>\n      <td>[65, 65, 65, 65, 65, 65, 65, 65, 65, 65, 65, 65]</td>\n      <td>[30, 30, 30, 30, 30, 30, 30, 30, 30, 30, 30, 30]</td>\n      <td>[0, 0, 0, 0, 0, 0, 0, 0, 0, 0, 0, 0]</td>\n      <td>[0.029411764705882353, 0.029411764705882353, 0...</td>\n      <td>[-0.37209302325581395, -0.37209302325581395, -...</td>\n      <td>[0.25056561085972845, 0.25056561085972845, 0.2...</td>\n      <td>[-2.0000000000000027, -2.0000000000000027, -2....</td>\n      <td>...</td>\n      <td>[-0.37931034482758563, -0.37931034482758563, -...</td>\n      <td>[-0.125, -0.125, -0.125, -0.125, -0.125, -0.12...</td>\n      <td>[1.0, 1.0, 1.0, 1.0, 1.0, 1.0, 1.0, 1.0, 1.0, ...</td>\n      <td>[-0.4, -0.4, -0.4, -0.4, -0.4, -0.4, -0.4, -0....</td>\n      <td>[1.9427272727272722, 1.9427272727272722, 1.942...</td>\n      <td>[-0.6459546925566347, -0.6459546925566347, -0....</td>\n      <td>[0.75, 0.75, 0.75, 0.75, 0.75, 0.75, 0.75, 0.7...</td>\n      <td>[-0.8933333333333333, -0.8933333333333333, -0....</td>\n      <td>[0, 0, 0, 0, 0, 0, 0, 0, 0, 0, 0, 0]</td>\n      <td>[0.0, 0.0, 0.0, 0.0, 0.0, 0.0, 0.0, 0.0, 0.0, ...</td>\n    </tr>\n    <tr>\n      <th>2</th>\n      <td>649</td>\n      <td>[CLS, Q1_Speech_score_3, Q2_Salivation_score_3...</td>\n      <td>[0, 0, 0, 0, 0, 0, 0, 0, 0, 0, 0, 0, 1, 1, 1, ...</td>\n      <td>[48, 48, 48, 48, 48, 48, 48, 48, 48, 48, 48, 4...</td>\n      <td>[36, 36, 36, 36, 36, 36, 36, 36, 36, 36, 36, 3...</td>\n      <td>[0, 0, 0, 0, 0, 0, 0, 0, 0, 0, 0, 0, 32, 32, 3...</td>\n      <td>[1.1764705882352942, 1.1764705882352942, 1.176...</td>\n      <td>[-0.5697674418604651, -0.5697674418604651, -0....</td>\n      <td>[-0.4994343891402715, -0.4994343891402715, -0....</td>\n      <td>[-1.3333333333333355, -1.3333333333333355, -1....</td>\n      <td>...</td>\n      <td>[-0.5344827586206902, -0.5344827586206902, -0....</td>\n      <td>[-0.8125, -0.8125, -0.8125, -0.8125, -0.8125, ...</td>\n      <td>[0.2500000000000011, 0.2500000000000011, 0.250...</td>\n      <td>[0.2, 0.2, 0.2, 0.2, 0.2, 0.2, 0.2, 0.2, 0.2, ...</td>\n      <td>[-0.42863636363636326, -0.42863636363636326, -...</td>\n      <td>[-0.9689320388349492, -0.9689320388349492, -0....</td>\n      <td>[0.0, 0.0, 0.0, 0.0, 0.0, 0.0, 0.0, 0.0, 0.0, ...</td>\n      <td>[0.38666666666666666, 0.38666666666666666, 0.3...</td>\n      <td>[0, 0, 0, 0, 0, 0, 0, 0, 0, 0, 0, 0, 32, 32, 3...</td>\n      <td>[0.0, 0.0, 0.0, 0.0, 0.0, 0.0, 0.0, 0.0, 0.0, ...</td>\n    </tr>\n    <tr>\n      <th>3</th>\n      <td>708</td>\n      <td>[CLS, Q1_Speech_score_3, Q2_Salivation_score_3...</td>\n      <td>[0, 0, 0, 0, 0, 0, 0, 0, 0, 0, 0, 0, 1, 1, 1, ...</td>\n      <td>[46, 46, 46, 46, 46, 46, 46, 46, 46, 46, 46, 4...</td>\n      <td>[33, 33, 33, 33, 33, 33, 33, 33, 33, 33, 33, 3...</td>\n      <td>[0, 0, 0, 0, 0, 0, 0, 0, 0, 0, 0, 0, 35, 35, 3...</td>\n      <td>[-0.8235294117647058, -0.8235294117647058, -0....</td>\n      <td>[-0.5271317829457365, -0.5271317829457365, -0....</td>\n      <td>[0.5005656108597285, 0.5005656108597285, 0.500...</td>\n      <td>[-1.3333333333333355, -1.3333333333333355, -1....</td>\n      <td>...</td>\n      <td>[0.01724137931034508, 0.01724137931034508, 0.0...</td>\n      <td>[0.3125, 0.3125, 0.3125, 0.3125, 0.3125, 0.312...</td>\n      <td>[2.249999999999999, 2.249999999999999, 2.24999...</td>\n      <td>[1.6, 1.6, 1.6, 1.6, 1.6, 1.6, 1.6, 1.6, 1.6, ...</td>\n      <td>[-0.3277272727272726, -0.3277272727272726, -0....</td>\n      <td>[1.1304207119741108, 1.1304207119741108, 1.130...</td>\n      <td>[1.25, 1.25, 1.25, 1.25, 1.25, 1.25, 1.25, 1.2...</td>\n      <td>[0.013333333333333334, 0.013333333333333334, 0...</td>\n      <td>[0, 0, 0, 0, 0, 0, 0, 0, 0, 0, 0, 0, 35, 35, 3...</td>\n      <td>[0.0, 0.0, 0.0, 0.0, 0.0, 0.0, 0.0, 0.0, 0.0, ...</td>\n    </tr>\n    <tr>\n      <th>4</th>\n      <td>1234</td>\n      <td>[CLS, Q1_Speech_score_2, Q2_Salivation_score_3...</td>\n      <td>[0, 0, 0, 0, 0, 0, 0, 0, 0, 0, 0, 0, 1, 1, 1, ...</td>\n      <td>[38, 38, 38, 38, 38, 38, 38, 38, 38, 38, 38, 3...</td>\n      <td>[21, 21, 21, 21, 21, 21, 21, 21, 21, 21, 21, 2...</td>\n      <td>[0, 0, 0, 0, 0, 0, 0, 0, 0, 0, 0, 0, 11, 11, 1...</td>\n      <td>[-0.5588235294117647, -0.5588235294117647, -0....</td>\n      <td>[0.003875968992248062, 0.003875968992248062, 0...</td>\n      <td>[0.5005656108597285, 0.5005656108597285, 0.500...</td>\n      <td>[1.166666666666668, 1.166666666666668, 1.16666...</td>\n      <td>...</td>\n      <td>[0.8103448275862077, 0.8103448275862077, 0.810...</td>\n      <td>[0.8125, 0.8125, 0.8125, 0.8125, 0.8125, 0.812...</td>\n      <td>[-0.2499999999999989, -0.2499999999999989, -0....</td>\n      <td>[1.2, 1.2, 1.2, 1.2, 1.2, 1.2, 1.2, 1.2, 1.2, ...</td>\n      <td>[-0.17636363636363622, -0.17636363636363622, -...</td>\n      <td>[0.32297734627831737, 0.32297734627831737, 0.3...</td>\n      <td>[0.75, 0.75, 0.75, 0.75, 0.75, 0.75, 0.75, 0.7...</td>\n      <td>[-0.28, -0.28, -0.28, -0.28, -0.28, -0.28, -0....</td>\n      <td>[0, 0, 0, 0, 0, 0, 0, 0, 0, 0, 0, 0, 11, 11, 1...</td>\n      <td>[0.0, 0.0, 0.0, 0.0, 0.0, 0.0, 0.0, 0.0, 0.0, ...</td>\n    </tr>\n    <tr>\n      <th>...</th>\n      <td>...</td>\n      <td>...</td>\n      <td>...</td>\n      <td>...</td>\n      <td>...</td>\n      <td>...</td>\n      <td>...</td>\n      <td>...</td>\n      <td>...</td>\n      <td>...</td>\n      <td>...</td>\n      <td>...</td>\n      <td>...</td>\n      <td>...</td>\n      <td>...</td>\n      <td>...</td>\n      <td>...</td>\n      <td>...</td>\n      <td>...</td>\n      <td>...</td>\n      <td>...</td>\n    </tr>\n    <tr>\n      <th>3166</th>\n      <td>998519</td>\n      <td>[CLS, Q1_Speech_score_4, Q2_Salivation_score_4...</td>\n      <td>[0, 0, 0, 0, 0, 0, 0, 0, 0, 0, 0, 0, 1, 1, 1, ...</td>\n      <td>[42, 42, 42, 42, 42, 42, 42, 42, 42, 42, 42, 4...</td>\n      <td>[29, 29, 29, 29, 29, 29, 29, 29, 29, 29, 29, 2...</td>\n      <td>[0, 0, 0, 0, 0, 0, 0, 0, 0, 0, 0, 0, 87, 87, 8...</td>\n      <td>[-0.4411764705882353, -0.4411764705882353, -0....</td>\n      <td>[-0.5503875968992248, -0.5503875968992248, -0....</td>\n      <td>[0.5005656108597285, 0.5005656108597285, 0.500...</td>\n      <td>[0.3333333333333326, 0.3333333333333326, 0.333...</td>\n      <td>...</td>\n      <td>[-0.5, -0.5, -0.5, -0.5, -0.5, -0.5, -0.5, -0....</td>\n      <td>[-0.3125, -0.3125, -0.3125, -0.3125, -0.3125, ...</td>\n      <td>[-0.2499999999999989, -0.2499999999999989, -0....</td>\n      <td>[-0.4, -0.4, -0.4, -0.4, -0.4, -0.4, -0.4, -0....</td>\n      <td>[-0.5295454545454539, -0.5295454545454539, -0....</td>\n      <td>[-0.484466019417476, -0.484466019417476, -0.48...</td>\n      <td>[0.75, 0.75, 0.75, 0.75, 0.75, 0.75, 0.75, 0.7...</td>\n      <td>[2.64, 2.64, 2.64, 2.64, 2.64, 2.64, 2.64, 2.6...</td>\n      <td>[0, 0, 0, 0, 0, 0, 0, 0, 0, 0, 0, 0, 87, 87, 8...</td>\n      <td>[0.0, 0.0, 0.0, 0.0, 0.0, 0.0, 0.0, 0.0, 0.0, ...</td>\n    </tr>\n    <tr>\n      <th>3167</th>\n      <td>998542</td>\n      <td>[CLS, Q1_Speech_score_4, Q2_Salivation_score_3...</td>\n      <td>[0, 0, 0, 0, 0, 0, 0, 0, 0, 0, 0, 0]</td>\n      <td>[70, 70, 70, 70, 70, 70, 70, 70, 70, 70, 70, 70]</td>\n      <td>[28, 28, 28, 28, 28, 28, 28, 28, 28, 28, 28, 28]</td>\n      <td>[0, 0, 0, 0, 0, 0, 0, 0, 0, 0, 0, 0]</td>\n      <td>[0.3235294117647059, 0.3235294117647059, 0.323...</td>\n      <td>[0.003875968992248062, 0.003875968992248062, 0...</td>\n      <td>[-0.4994343891402715, -0.4994343891402715, -0....</td>\n      <td>[0.8333333333333343, 0.8333333333333343, 0.833...</td>\n      <td>...</td>\n      <td>[0.17241379310344837, 0.17241379310344837, 0.1...</td>\n      <td>[1.0, 1.0, 1.0, 1.0, 1.0, 1.0, 1.0, 1.0, 1.0, ...</td>\n      <td>[0.2500000000000011, 0.2500000000000011, 0.250...</td>\n      <td>[-1.2, -1.2, -1.2, -1.2, -1.2, -1.2, -1.2, -1....</td>\n      <td>[0.17681818181818224, 0.17681818181818224, 0.1...</td>\n      <td>[-0.16148867313915868, -0.16148867313915868, -...</td>\n      <td>[0.0, 0.0, 0.0, 0.0, 0.0, 0.0, 0.0, 0.0, 0.0, ...</td>\n      <td>[2.56, 2.56, 2.56, 2.56, 2.56, 2.56, 2.56, 2.5...</td>\n      <td>[0, 0, 0, 0, 0, 0, 0, 0, 0, 0, 0, 0]</td>\n      <td>[0.0, 0.0, 0.0, 0.0, 0.0, 0.0, 0.0, 0.0, 0.0, ...</td>\n    </tr>\n    <tr>\n      <th>3168</th>\n      <td>998764</td>\n      <td>[CLS, Q1_Speech_score_4, Q2_Salivation_score_4...</td>\n      <td>[0, 0, 0, 0, 0, 0, 0, 0, 0, 0, 0, 0, 1, 1, 1, ...</td>\n      <td>[66, 66, 66, 66, 66, 66, 66, 66, 66, 66, 66, 6...</td>\n      <td>[27, 27, 27, 27, 27, 27, 27, 27, 27, 27, 27, 2...</td>\n      <td>[0, 0, 0, 0, 0, 0, 0, 0, 0, 0, 0, 0, 28, 28, 2...</td>\n      <td>[0.3235294117647059, 0.3235294117647059, 0.323...</td>\n      <td>[-0.4844961240310077, -0.4844961240310077, -0....</td>\n      <td>[-0.4994343891402715, -0.4994343891402715, -0....</td>\n      <td>[-0.5000000000000006, -0.5000000000000006, -0....</td>\n      <td>...</td>\n      <td>[-0.4137931034482758, -0.4137931034482758, -0....</td>\n      <td>[-0.4375, -0.4375, -0.4375, -0.4375, -0.4375, ...</td>\n      <td>[0.7500000000000011, 0.7500000000000011, 0.750...</td>\n      <td>[-0.2, -0.2, -0.2, -0.2, -0.2, -0.2, -0.2, -0....</td>\n      <td>[-0.47909090909090896, -0.47909090909090896, -...</td>\n      <td>[-0.9689320388349492, -0.9689320388349492, -0....</td>\n      <td>[0.5, 0.5, 0.5, 0.5, 0.5, 0.5, 0.5, 0.5, 0.5, ...</td>\n      <td>[-0.25333333333333335, -0.25333333333333335, -...</td>\n      <td>[0, 0, 0, 0, 0, 0, 0, 0, 0, 0, 0, 0, 28, 28, 2...</td>\n      <td>[0.0, 0.0, 0.0, 0.0, 0.0, 0.0, 0.0, 0.0, 0.0, ...</td>\n    </tr>\n    <tr>\n      <th>3169</th>\n      <td>999482</td>\n      <td>[CLS, Q1_Speech_score_3, Q2_Salivation_score_3...</td>\n      <td>[0, 0, 0, 0, 0, 0, 0, 0, 0, 0, 0, 0, 1, 1, 1, ...</td>\n      <td>[48, 48, 48, 48, 48, 48, 48, 48, 48, 48, 48, 4...</td>\n      <td>[37, 37, 37, 37, 37, 37, 37, 37, 37, 37, 37, 3...</td>\n      <td>[14, 14, 14, 14, 14, 14, 14, 14, 14, 14, 14, 1...</td>\n      <td>[0.0, 0.0, 0.0, 0.0, 0.0, 0.0, 0.0, 0.0, 0.0, ...</td>\n      <td>[-0.5503875968992248, -0.5503875968992248, -0....</td>\n      <td>[0.06504524886877819, 0.06504524886877819, 0.0...</td>\n      <td>[0.47781217750258065, 0.47781217750258065, 0.4...</td>\n      <td>...</td>\n      <td>[1.0517241379310351, 1.0517241379310351, 1.051...</td>\n      <td>[1.0625, 1.0625, 1.0625, 1.0625, 1.0625, 1.062...</td>\n      <td>[1.5, 1.5, 1.5, 1.5, 1.5, 1.5, 1.5, 1.5, 1.5, ...</td>\n      <td>[1.0, 1.0, 1.0, 1.0, 1.0, 1.0, 1.0, 1.0, 1.0, ...</td>\n      <td>[-0.09090909090909054, -0.09090909090909054, -...</td>\n      <td>[1.0333333333333332, 1.0333333333333332, 1.033...</td>\n      <td>[-0.5, -0.5, -0.5, -0.5, -0.5, -0.5, -0.5, -0....</td>\n      <td>[1.2666666666666666, 1.2666666666666666, 1.266...</td>\n      <td>[0, 0, 0, 0, 0, 0, 0, 0, 0, 0, 0, 0, 35, 35, 3...</td>\n      <td>[0.0, 0.0, 0.0, 0.0, 0.0, 0.0, 0.0, 0.0, 0.0, ...</td>\n    </tr>\n    <tr>\n      <th>3170</th>\n      <td>999880</td>\n      <td>[CLS, Q1_Speech_score_4, Q2_Salivation_score_4...</td>\n      <td>[0, 0, 0, 0, 0, 0, 0, 0, 0, 0, 0, 0, 1, 1, 1, ...</td>\n      <td>[51, 51, 51, 51, 51, 51, 51, 51, 51, 51, 51, 5...</td>\n      <td>[24, 24, 24, 24, 24, 24, 24, 24, 24, 24, 24, 2...</td>\n      <td>[0, 0, 0, 0, 0, 0, 0, 0, 0, 0, 0, 0, 49, 49, 4...</td>\n      <td>[-0.7058823529411765, -0.7058823529411765, -0....</td>\n      <td>[0.5813953488372093, 0.5813953488372093, 0.581...</td>\n      <td>[0.5005656108597285, 0.5005656108597285, 0.500...</td>\n      <td>[-1.3333333333333355, -1.3333333333333355, -1....</td>\n      <td>...</td>\n      <td>[0.7068965517241386, 0.7068965517241386, 0.706...</td>\n      <td>[0.9375, 0.9375, 0.9375, 0.9375, 0.9375, 0.937...</td>\n      <td>[-0.2499999999999989, -0.2499999999999989, -0....</td>\n      <td>[-0.4, -0.4, -0.4, -0.4, -0.4, -0.4, -0.4, -0....</td>\n      <td>[-0.8827272727272724, -0.8827272727272724, -0....</td>\n      <td>[-0.484466019417476, -0.484466019417476, -0.48...</td>\n      <td>[0.5, 0.5, 0.5, 0.5, 0.5, 0.5, 0.5, 0.5, 0.5, ...</td>\n      <td>[-0.5066666666666667, -0.5066666666666667, -0....</td>\n      <td>[0, 0, 0, 0, 0, 0, 0, 0, 0, 0, 0, 0, 49, 49, 4...</td>\n      <td>[0.0, 0.0, 0.0, 0.0, 0.0, 0.0, 0.0, 0.0, 0.0, ...</td>\n    </tr>\n  </tbody>\n</table>\n<p>3171 rows × 24 columns</p>\n</div>"
     },
     "execution_count": 27,
     "metadata": {},
     "output_type": "execute_result"
    }
   ],
   "source": [
    "df = pd.read_parquet(f'../data/for_behrt_wrt_months.parquet')\n",
    "df"
   ],
   "metadata": {
    "collapsed": false,
    "pycharm": {
     "name": "#%%\n"
    }
   }
  },
  {
   "cell_type": "code",
   "execution_count": 28,
   "outputs": [
    {
     "data": {
      "text/plain": "<AxesSubplot:>"
     },
     "execution_count": 28,
     "metadata": {},
     "output_type": "execute_result"
    },
    {
     "data": {
      "text/plain": "<Figure size 432x288 with 1 Axes>",
      "image/png": "[encoded data removed]"
     },
     "metadata": {
      "needs_background": "light"
     },
     "output_type": "display_data"
    }
   ],
   "source": [
    "df['fixed_months'].apply(max).hist()"
   ],
   "metadata": {
    "collapsed": false,
    "pycharm": {
     "name": "#%%\n"
    }
   }
  },
  {
   "cell_type": "code",
   "execution_count": 40,
   "outputs": [],
   "source": [
    "df.loc[df['fixed_time'].apply(max) < get_days(3) - 7].reset_index(drop=True).to_parquet(f'../data/for_behrt_wrt_months_less_than_3_months.parquet')\n",
    "df.loc[~df['fixed_time'].apply(max) < get_days(3) - 7].reset_index(drop=True).to_parquet(f'../data/for_behrt_wrt_months_more_than_3_months.parquet')"
   ],
   "metadata": {
    "collapsed": false,
    "pycharm": {
     "name": "#%%\n"
    }
   }
  },
  {
   "cell_type": "code",
   "execution_count": 84,
   "outputs": [],
   "source": [
    "more_than = pd.read_parquet(f'../data/for_behrt_wrt_months_more_than_3_months.parquet')"
   ],
   "metadata": {
    "collapsed": false,
    "pycharm": {
     "name": "#%%\n"
    }
   }
  },
  {
   "cell_type": "code",
   "execution_count": 85,
   "outputs": [
    {
     "data": {
      "text/plain": "55"
     },
     "execution_count": 85,
     "metadata": {},
     "output_type": "execute_result"
    }
   ],
   "source": [
    "valid_for_train_ub =  get_days(3) + 7\n",
    "def get_last_valid_idx(ls):\n",
    "    s = pd.Series([i <= valid_for_train_ub  for i in ls])\n",
    "    return s.where(s).last_valid_index()\n",
    "more_than['3_months_idx'] = more_than['fixed_time'].apply(get_last_valid_idx)\n",
    "more_than['3_months_idx'].max()"
   ],
   "metadata": {
    "collapsed": false,
    "pycharm": {
     "name": "#%%\n"
    }
   }
  },
  {
   "cell_type": "code",
   "execution_count": 59,
   "outputs": [
    {
     "data": {
      "text/plain": "2536"
     },
     "execution_count": 59,
     "metadata": {},
     "output_type": "execute_result"
    }
   ],
   "source": [
    "int(more_than.shape[0] * .8)"
   ],
   "metadata": {
    "collapsed": false,
    "pycharm": {
     "name": "#%%\n"
    }
   }
  },
  {
   "cell_type": "code",
   "execution_count": 60,
   "outputs": [
    {
     "data": {
      "text/plain": "0       33\n1       11\n2       44\n3       33\n4       44\n        ..\n3166    22\n3167    11\n3168    44\n3169    44\n3170    33\nName: 3_months_idx, Length: 3171, dtype: int64"
     },
     "execution_count": 60,
     "metadata": {},
     "output_type": "execute_result"
    }
   ],
   "source": [
    "more_than['3_months_idx']\n"
   ],
   "metadata": {
    "collapsed": false,
    "pycharm": {
     "name": "#%%\n"
    }
   }
  },
  {
   "cell_type": "code",
   "execution_count": 86,
   "outputs": [],
   "source": [
    "more_than['FRS_diag_original'] = more_than['FRS_diag'].copy(deep=True)\n",
    "more_than['FRS_diag'] = more_than.apply(lambda x: x['FRS_diag'][:x['3_months_idx']+1], axis=1)\n",
    "more_than.to_parquet(f'../data/for_behrt_wrt_months_more_than_3_months_fixed.parquet')"
   ],
   "metadata": {
    "collapsed": false,
    "pycharm": {
     "name": "#%%\n"
    }
   }
  },
  {
   "cell_type": "code",
   "execution_count": 83,
   "outputs": [
    {
     "data": {
      "text/plain": "      FRS_diag_original  FRS_diag\n0                   329       329\n1                   533       533\n2                   649       649\n3                   708       708\n4                  1234      1234\n...                 ...       ...\n3166             998519    998519\n3167             998542    998542\n3168             998764    998764\n3169             999482    999482\n3170             999880    999880\n\n[3171 rows x 2 columns]",
      "text/html": "<div>\n<style scoped>\n    .dataframe tbody tr th:only-of-type {\n        vertical-align: middle;\n    }\n\n    .dataframe tbody tr th {\n        vertical-align: top;\n    }\n\n    .dataframe thead th {\n        text-align: right;\n    }\n</style>\n<table border=\"1\" class=\"dataframe\">\n  <thead>\n    <tr style=\"text-align: right;\">\n      <th></th>\n      <th>FRS_diag_original</th>\n      <th>FRS_diag</th>\n    </tr>\n  </thead>\n  <tbody>\n    <tr>\n      <th>0</th>\n      <td>329</td>\n      <td>329</td>\n    </tr>\n    <tr>\n      <th>1</th>\n      <td>533</td>\n      <td>533</td>\n    </tr>\n    <tr>\n      <th>2</th>\n      <td>649</td>\n      <td>649</td>\n    </tr>\n    <tr>\n      <th>3</th>\n      <td>708</td>\n      <td>708</td>\n    </tr>\n    <tr>\n      <th>4</th>\n      <td>1234</td>\n      <td>1234</td>\n    </tr>\n    <tr>\n      <th>...</th>\n      <td>...</td>\n      <td>...</td>\n    </tr>\n    <tr>\n      <th>3166</th>\n      <td>998519</td>\n      <td>998519</td>\n    </tr>\n    <tr>\n      <th>3167</th>\n      <td>998542</td>\n      <td>998542</td>\n    </tr>\n    <tr>\n      <th>3168</th>\n      <td>998764</td>\n      <td>998764</td>\n    </tr>\n    <tr>\n      <th>3169</th>\n      <td>999482</td>\n      <td>999482</td>\n    </tr>\n    <tr>\n      <th>3170</th>\n      <td>999880</td>\n      <td>999880</td>\n    </tr>\n  </tbody>\n</table>\n<p>3171 rows × 2 columns</p>\n</div>"
     },
     "execution_count": 83,
     "metadata": {},
     "output_type": "execute_result"
    }
   ],
   "source": [
    "more_than[['FRS_diag_original', 'FRS_diag']]\n"
   ],
   "metadata": {
    "collapsed": false,
    "pycharm": {
     "name": "#%%\n"
    }
   }
  },
  {
   "cell_type": "code",
   "execution_count": 72,
   "outputs": [
    {
     "data": {
      "text/plain": "0        (78,)\n1        (12,)\n2       (133,)\n3        (67,)\n4       (144,)\n         ...  \n3166     (56,)\n3167     (12,)\n3168     (56,)\n3169    (100,)\n3170     (67,)\nLength: 3171, dtype: object"
     },
     "execution_count": 72,
     "metadata": {},
     "output_type": "execute_result"
    }
   ],
   "source": [
    "more_than.apply(lambda x:  x['FRS_diag'].shape, axis=1)"
   ],
   "metadata": {
    "collapsed": false,
    "pycharm": {
     "name": "#%%\n"
    }
   }
  },
  {
   "cell_type": "code",
   "execution_count": null,
   "outputs": [],
   "source": [],
   "metadata": {
    "collapsed": false,
    "pycharm": {
     "name": "#%%\n"
    }
   }
  }
 ],
 "metadata": {
  "kernelspec": {
   "name": "behrt_msc",
   "language": "python",
   "display_name": "BEHRT_MSC"
  },
  "language_info": {
   "codemirror_mode": {
    "name": "ipython",
    "version": 3
   },
   "file_extension": ".py",
   "mimetype": "text/x-python",
   "name": "python",
   "nbconvert_exporter": "python",
   "pygments_lexer": "ipython3",
   "version": "3.8.5"
  }
 },
 "nbformat": 4,
 "nbformat_minor": 2
}